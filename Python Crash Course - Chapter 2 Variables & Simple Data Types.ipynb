{
 "cells": [
  {
   "cell_type": "markdown",
   "id": "372bc3c4",
   "metadata": {},
   "source": [
    "# Variables Code Along"
   ]
  },
  {
   "cell_type": "code",
   "execution_count": 2,
   "id": "b84a21ed",
   "metadata": {},
   "outputs": [
    {
     "name": "stdout",
     "output_type": "stream",
     "text": [
      "Hello Python world!\n",
      "Hello Python Crash Course world!\n"
     ]
    }
   ],
   "source": [
    "\n",
    "message = 'Hello Python world!'\n",
    "print(message)\n",
    "\n",
    "message = 'Hello Python Crash Course world!'\n",
    "print(message)"
   ]
  },
  {
   "cell_type": "code",
   "execution_count": 3,
   "id": "623128d4",
   "metadata": {},
   "outputs": [
    {
     "name": "stdout",
     "output_type": "stream",
     "text": [
      "Hello! Welcome to our Airbnb\n"
     ]
    }
   ],
   "source": [
    "# 2-1 Simple Message\n",
    "\n",
    "hello_message = 'Hello! Welcome to our Airbnb'\n",
    "print(hello_message)"
   ]
  },
  {
   "cell_type": "code",
   "execution_count": 4,
   "id": "1d5935d3",
   "metadata": {},
   "outputs": [
    {
     "name": "stdout",
     "output_type": "stream",
     "text": [
      "Good morning!\n"
     ]
    }
   ],
   "source": [
    "# 2-2 Simple Messages\n",
    "\n",
    "message = 'Good morning!'\n",
    "print(message)"
   ]
  },
  {
   "cell_type": "code",
   "execution_count": 5,
   "id": "19e59c1c",
   "metadata": {},
   "outputs": [
    {
     "name": "stdout",
     "output_type": "stream",
     "text": [
      "Goodnight!\n"
     ]
    }
   ],
   "source": [
    "message = 'Goodnight!'\n",
    "print(message)"
   ]
  },
  {
   "cell_type": "markdown",
   "id": "e014059c",
   "metadata": {},
   "source": [
    "# String Code Along"
   ]
  },
  {
   "cell_type": "code",
   "execution_count": 8,
   "id": "996ade7e",
   "metadata": {},
   "outputs": [
    {
     "name": "stdout",
     "output_type": "stream",
     "text": [
      "Ada Lovelace\n"
     ]
    }
   ],
   "source": [
    "# Changing case in a string with methods\n",
    "\n",
    "# Title method changes each word to title case\n",
    "\n",
    "name = 'ada lovelace'\n",
    "print(name.title())"
   ]
  },
  {
   "cell_type": "code",
   "execution_count": 9,
   "id": "bb504d1a",
   "metadata": {},
   "outputs": [
    {
     "name": "stdout",
     "output_type": "stream",
     "text": [
      "ADA LOVELACE\n",
      "ada lovelace\n"
     ]
    }
   ],
   "source": [
    "# Unlike Title method, Upper and Lower method will change the whole entire string\n",
    "\n",
    "print(name.upper())\n",
    "print(name.lower())"
   ]
  },
  {
   "cell_type": "code",
   "execution_count": 10,
   "id": "2eacb581",
   "metadata": {},
   "outputs": [
    {
     "name": "stdout",
     "output_type": "stream",
     "text": [
      "ada lovelace\n"
     ]
    }
   ],
   "source": [
    "# Using variables in strings\n",
    "\n",
    "first_name = 'ada'\n",
    "last_name = 'lovelace'\n",
    "\n",
    "# 'f' used here are for f strings\n",
    "\n",
    "full_name = f\"{first_name} {last_name}\"\n",
    "print(full_name)"
   ]
  },
  {
   "cell_type": "code",
   "execution_count": 11,
   "id": "2307e4cc",
   "metadata": {},
   "outputs": [
    {
     "name": "stdout",
     "output_type": "stream",
     "text": [
      "Hello, Ada Lovelace!\n"
     ]
    }
   ],
   "source": [
    "# Other f string variations\n",
    "\n",
    "first_name = 'ada'\n",
    "last_name = 'lovelace'\n",
    "\n",
    "# Curly braces must be used to insert a variable into a f string\n",
    "\n",
    "full_name = f\"{first_name} {last_name}\"\n",
    "print(f\"Hello, {full_name.title()}!\")"
   ]
  },
  {
   "cell_type": "code",
   "execution_count": 13,
   "id": "47aa9f06",
   "metadata": {},
   "outputs": [
    {
     "name": "stdout",
     "output_type": "stream",
     "text": [
      "Languages:\n",
      "\tPython\n",
      "\tC\n",
      "\tJavascript\n"
     ]
    }
   ],
   "source": [
    "# Adding Whitespace to Strings with Tabs or Newlines\n",
    "# \\n - for new line\n",
    "# \\t - for tab\n",
    "\n",
    "print(\"Languages:\\n\\tPython\\n\\tC\\n\\tJavascript\")"
   ]
  },
  {
   "cell_type": "code",
   "execution_count": 18,
   "id": "331a576f",
   "metadata": {},
   "outputs": [
    {
     "data": {
      "text/plain": [
       "'python'"
      ]
     },
     "execution_count": 18,
     "metadata": {},
     "output_type": "execute_result"
    }
   ],
   "source": [
    "# Stripping white space\n",
    "\n",
    "# Stripping white space from the right side\n",
    "\n",
    "favorite_language = 'python '\n",
    "favorite_language\n",
    "\n",
    "# Make sure old variable is assigned the correct new value\n",
    "\n",
    "favorite_language = favorite_language.rstrip()\n",
    "favorite_language\n",
    "\n",
    "# lstrip() will strip white space on the left and strip() with strip white space on both sides"
   ]
  },
  {
   "cell_type": "code",
   "execution_count": 21,
   "id": "cd2177a9",
   "metadata": {},
   "outputs": [
    {
     "data": {
      "text/plain": [
       "'nostarch.com'"
      ]
     },
     "execution_count": 21,
     "metadata": {},
     "output_type": "execute_result"
    }
   ],
   "source": [
    "# Stripping prefixes - use removeprefix(), example below:\n",
    "\n",
    "nostarch_url = 'https://nostarch.com'\n",
    "nostarch_url = nostarch_url.removeprefix('https://')\n",
    "nostarch_url"
   ]
  },
  {
   "cell_type": "code",
   "execution_count": 22,
   "id": "10bec4a7",
   "metadata": {},
   "outputs": [
    {
     "name": "stdout",
     "output_type": "stream",
     "text": [
      "Hello Madison. How's your day going?\n"
     ]
    }
   ],
   "source": [
    "# 2-3 Personal Message\n",
    "\n",
    "name = 'Madison'\n",
    "\n",
    "print(f\"Hello {name}. How's your day going?\")"
   ]
  },
  {
   "cell_type": "code",
   "execution_count": 27,
   "id": "2c80ba0b",
   "metadata": {},
   "outputs": [
    {
     "name": "stdout",
     "output_type": "stream",
     "text": [
      "larry\n",
      "LARRY\n",
      "Larry\n"
     ]
    }
   ],
   "source": [
    "# 2-4 Name Cases\n",
    "\n",
    "name = 'Larry'\n",
    "\n",
    "print(name.lower())\n",
    "print(name.upper())\n",
    "print(name.title())"
   ]
  },
  {
   "cell_type": "code",
   "execution_count": 30,
   "id": "4e179031",
   "metadata": {},
   "outputs": [
    {
     "name": "stdout",
     "output_type": "stream",
     "text": [
      "Albert Einstein once said, 'A person who never made a mistake never tried anything new.'\n"
     ]
    }
   ],
   "source": [
    "# 2-5 Famous Quote\n",
    "\n",
    "famous_person = 'albert einstein'\n",
    "quote = 'A person who never made a mistake never tried anything new.'\n",
    "\n",
    "print(f\"{famous_person.title()} once said, '{quote}'\")\n"
   ]
  },
  {
   "cell_type": "code",
   "execution_count": 36,
   "id": "3d79662a",
   "metadata": {},
   "outputs": [
    {
     "name": "stdout",
     "output_type": "stream",
     "text": [
      "Albert Einstein once said, 'A person who never made a mistake never tried anything new.'\n"
     ]
    }
   ],
   "source": [
    "# 2-6 Famous Quote 2\n",
    "\n",
    "famous_person = 'albert einstein'\n",
    "quote = 'A person who never made a mistake never tried anything new.'\n",
    "\n",
    "message = (f\"{famous_person.title()} once said, '{quote}'\")\n",
    "\n",
    "print(message)"
   ]
  },
  {
   "cell_type": "code",
   "execution_count": 50,
   "id": "85e02cc8",
   "metadata": {},
   "outputs": [
    {
     "name": "stdout",
     "output_type": "stream",
     "text": [
      "Lisa Simpson\n"
     ]
    }
   ],
   "source": [
    "# 2-7 Stripping Names\n",
    "\n",
    "name_spaces = ' Lisa Simpson '\n",
    "\n",
    "name_spaces.lstrip()\n",
    "name_spaces.rstrip()\n",
    "name = name_spaces.strip()\n",
    "\n",
    "print(name)"
   ]
  },
  {
   "cell_type": "code",
   "execution_count": 51,
   "id": "a7f82131",
   "metadata": {},
   "outputs": [],
   "source": [
    "# 2-8 File Extensions\n",
    "\n",
    "# Not going to do this, just read about if it needed"
   ]
  },
  {
   "cell_type": "markdown",
   "id": "72b9726a",
   "metadata": {},
   "source": [
    "## Numbers Code Along"
   ]
  },
  {
   "cell_type": "markdown",
   "id": "7c1bced3",
   "metadata": {},
   "source": [
    "Integers and floats are straight forward. No need to code along during this section"
   ]
  },
  {
   "cell_type": "code",
   "execution_count": 52,
   "id": "06bcd12b",
   "metadata": {},
   "outputs": [
    {
     "name": "stdout",
     "output_type": "stream",
     "text": [
      "14000000000\n"
     ]
    }
   ],
   "source": [
    "# Underscores in numbers - Use to group digits to make large numbers more readable (use in place of ',')\n",
    "\n",
    "universe_age = 14_000_000_000\n",
    "print(universe_age)"
   ]
  },
  {
   "cell_type": "code",
   "execution_count": 55,
   "id": "f2155505",
   "metadata": {},
   "outputs": [
    {
     "name": "stdout",
     "output_type": "stream",
     "text": [
      "1\n",
      "3\n",
      "10\n"
     ]
    }
   ],
   "source": [
    "# Multiple Assignment \n",
    "\n",
    "x, y, z = 1, 3, 10\n",
    "\n",
    "print(x)\n",
    "print(y)\n",
    "print(z)"
   ]
  },
  {
   "cell_type": "code",
   "execution_count": 57,
   "id": "9cc521de",
   "metadata": {},
   "outputs": [
    {
     "name": "stdout",
     "output_type": "stream",
     "text": [
      "10000\n"
     ]
    }
   ],
   "source": [
    "# Constants - variable whose value stays the same through the life of the program. Use ALL CAPS\n",
    "\n",
    "MAX_CONNECTIONS = 5000\n",
    "MAX_CONNECTIONS = 10000\n",
    "\n",
    "print(MAX_CONNECTIONS)\n",
    "\n",
    "# hmm not sure if this is correct"
   ]
  },
  {
   "cell_type": "code",
   "execution_count": 59,
   "id": "5be33d8b",
   "metadata": {},
   "outputs": [
    {
     "name": "stdout",
     "output_type": "stream",
     "text": [
      "8\n",
      "8\n",
      "8\n",
      "8\n"
     ]
    }
   ],
   "source": [
    "# 2-9 Number Eight\n",
    "\n",
    "print(2*4)\n",
    "print(3+5)\n",
    "print(16-8)\n",
    "print(int(16/2))"
   ]
  },
  {
   "cell_type": "code",
   "execution_count": 60,
   "id": "ca4d1d72",
   "metadata": {},
   "outputs": [
    {
     "name": "stdout",
     "output_type": "stream",
     "text": [
      "My favorite number is 8.\n"
     ]
    }
   ],
   "source": [
    "# 2-10 Favorite Number\n",
    "\n",
    "favorite_number = 8\n",
    "\n",
    "print(f\"My favorite number is {favorite_number}.\")"
   ]
  },
  {
   "cell_type": "code",
   "execution_count": null,
   "id": "b13d561c",
   "metadata": {},
   "outputs": [],
   "source": []
  }
 ],
 "metadata": {
  "kernelspec": {
   "display_name": "Python 3 (ipykernel)",
   "language": "python",
   "name": "python3"
  },
  "language_info": {
   "codemirror_mode": {
    "name": "ipython",
    "version": 3
   },
   "file_extension": ".py",
   "mimetype": "text/x-python",
   "name": "python",
   "nbconvert_exporter": "python",
   "pygments_lexer": "ipython3",
   "version": "3.9.13"
  }
 },
 "nbformat": 4,
 "nbformat_minor": 5
}
