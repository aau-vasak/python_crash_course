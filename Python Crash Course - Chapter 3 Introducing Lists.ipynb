{
 "cells": [
  {
   "cell_type": "code",
   "execution_count": 2,
   "id": "4899b599",
   "metadata": {},
   "outputs": [
    {
     "name": "stdout",
     "output_type": "stream",
     "text": [
      "cindy\n",
      "kenny\n",
      "teresa\n"
     ]
    }
   ],
   "source": [
    "# 3-1 Names\n",
    "\n",
    "names = ['cindy','kenny','teresa']\n",
    "\n",
    "print(names[0])\n",
    "print(names[1])\n",
    "print(names[2])"
   ]
  },
  {
   "cell_type": "code",
   "execution_count": 5,
   "id": "cfc23f33",
   "metadata": {},
   "outputs": [
    {
     "name": "stdout",
     "output_type": "stream",
     "text": [
      "Hi Cindy! How are you doing today?\n",
      "Hi Kenny! How are you doing today?\n",
      "Hi Teresa! How are you doing today?\n"
     ]
    }
   ],
   "source": [
    "# 3-2  Greetings\n",
    "\n",
    "print(f\"Hi {names[0].title()}! How are you doing today?\")\n",
    "print(f\"Hi {names[1].title()}! How are you doing today?\")\n",
    "print(f\"Hi {names[2].title()}! How are you doing today?\")"
   ]
  },
  {
   "cell_type": "code",
   "execution_count": 8,
   "id": "c8fd9495",
   "metadata": {},
   "outputs": [
    {
     "name": "stdout",
     "output_type": "stream",
     "text": [
      "I would like to own a Porshce one day!\n",
      "I would like to own a Tesla one day!\n",
      "I would like to own a Toyota one day!\n"
     ]
    }
   ],
   "source": [
    "# 3-3 Your Own List\n",
    "\n",
    "cars = ['porshce','tesla','toyota']\n",
    "\n",
    "print(f\"I would like to own a {cars[0].title()} one day!\")\n",
    "print(f\"I would like to own a {cars[1].title()} one day!\")\n",
    "print(f\"I would like to own a {cars[2].title()} one day!\")"
   ]
  },
  {
   "cell_type": "code",
   "execution_count": 11,
   "id": "c86b564e",
   "metadata": {},
   "outputs": [
    {
     "name": "stdout",
     "output_type": "stream",
     "text": [
      "Wendy, would you like to come to dinner tomorrow?\n",
      "Lisa, would you like to come to dinner tomorrow?\n",
      "Tom, would you like to come to dinner tomorrow?\n",
      "Danny, would you like to come to dinner tomorrow?\n",
      "Alex, would you like to come to dinner tomorrow?\n"
     ]
    }
   ],
   "source": [
    "# 3-4 Guest List\n",
    "\n",
    "guest_list = ['wendy', 'lisa', 'tom', 'danny', 'alex']\n",
    "\n",
    "print(f\"{guest_list[0].title()}, would you like to come to dinner tomorrow?\")\n",
    "print(f\"{guest_list[1].title()}, would you like to come to dinner tomorrow?\")\n",
    "print(f\"{guest_list[2].title()}, would you like to come to dinner tomorrow?\")\n",
    "print(f\"{guest_list[3].title()}, would you like to come to dinner tomorrow?\")\n",
    "print(f\"{guest_list[4].title()}, would you like to come to dinner tomorrow?\")"
   ]
  },
  {
   "cell_type": "code",
   "execution_count": 14,
   "id": "9edf0653",
   "metadata": {},
   "outputs": [
    {
     "name": "stdout",
     "output_type": "stream",
     "text": [
      "Wendy, please come to dinner.\n",
      "Lisa, please come to dinner.\n",
      "Tom, please come to dinner.\n",
      "Danny, please come to dinner.\n",
      "Alex, please come to dinner.\n",
      "\n",
      "Sorry, Tom can't make dinner.\n",
      "\n",
      "Wendy, please come to dinner.\n",
      "Lisa, please come to dinner.\n",
      "Julie, please come to dinner.\n",
      "Danny, please come to dinner.\n",
      "Alex, please come to dinner.\n"
     ]
    }
   ],
   "source": [
    "# 3-5 Changing Guest List\n",
    "\n",
    "# Inviting people to come to dinner\n",
    "guest_list = ['wendy', 'lisa', 'tom', 'danny', 'alex']\n",
    "\n",
    "name = guest_list[0].title()\n",
    "print(f\"{name}, please come to dinner.\")\n",
    "\n",
    "name = guest_list[1].title()\n",
    "print(f\"{name}, please come to dinner.\")\n",
    "\n",
    "name = guest_list[2].title()\n",
    "print(f\"{name}, please come to dinner.\")\n",
    "\n",
    "name = guest_list[3].title()\n",
    "print(f\"{name}, please come to dinner.\")\n",
    "\n",
    "name = guest_list[4].title()\n",
    "print(f\"{name}, please come to dinner.\")\n",
    "\n",
    "name = guest_list[2].title()\n",
    "print(f\"\\nSorry, {name} can't make dinner.\")\n",
    "\n",
    "\n",
    "# Tom can't make dinner. Invite Julie instead\n",
    "del(guest_list[2])\n",
    "guest_list.insert(2,'julie')\n",
    "\n",
    "\n",
    "# Print the invitations again\n",
    "name = guest_list[0].title()\n",
    "print(f\"\\n{name}, please come to dinner.\")\n",
    "\n",
    "name = guest_list[1].title()\n",
    "print(f\"{name}, please come to dinner.\")\n",
    "\n",
    "name = guest_list[2].title()\n",
    "print(f\"{name}, please come to dinner.\")\n",
    "\n",
    "name = guest_list[3].title()\n",
    "print(f\"{name}, please come to dinner.\")\n",
    "\n",
    "name = guest_list[4].title()\n",
    "print(f\"{name}, please come to dinner.\")\n"
   ]
  },
  {
   "cell_type": "code",
   "execution_count": 16,
   "id": "095b8728",
   "metadata": {},
   "outputs": [
    {
     "name": "stdout",
     "output_type": "stream",
     "text": [
      "Wendy, please come to dinner.\n",
      "Lisa, please come to dinner.\n",
      "Tom, please come to dinner.\n",
      "Danny, please come to dinner.\n",
      "Alex, please come to dinner.\n",
      "\n",
      "Sorry, Tom can't make dinner.\n",
      "\n",
      "Wendy, please come to dinner.\n",
      "Lisa, please come to dinner.\n",
      "Julie, please come to dinner.\n",
      "Danny, please come to dinner.\n",
      "Alex, please come to dinner.\n",
      "\n",
      "We got a bigger table!\n",
      "Paula, please come to dinner.\n",
      "Wendy, please come to dinner.\n",
      "Jason, please come to dinner.\n",
      "Lisa, please come to dinner.\n",
      "Julie, please come to dinner.\n",
      "Danny, please come to dinner.\n",
      "Alex, please come to dinner.\n",
      "Rachel, please come to dinner.\n"
     ]
    }
   ],
   "source": [
    "# 3-6 More Guests\n",
    "\n",
    "# Inviting people to come to dinner\n",
    "guest_list = ['wendy', 'lisa', 'tom', 'danny', 'alex']\n",
    "\n",
    "name = guest_list[0].title()\n",
    "print(f\"{name}, please come to dinner.\")\n",
    "\n",
    "name = guest_list[1].title()\n",
    "print(f\"{name}, please come to dinner.\")\n",
    "\n",
    "name = guest_list[2].title()\n",
    "print(f\"{name}, please come to dinner.\")\n",
    "\n",
    "name = guest_list[3].title()\n",
    "print(f\"{name}, please come to dinner.\")\n",
    "\n",
    "name = guest_list[4].title()\n",
    "print(f\"{name}, please come to dinner.\")\n",
    "\n",
    "name = guest_list[2].title()\n",
    "print(f\"\\nSorry, {name} can't make dinner.\")\n",
    "\n",
    "\n",
    "# Tom can't make dinner. Invite Julie instead\n",
    "del(guest_list[2])\n",
    "guest_list.insert(2,'julie')\n",
    "\n",
    "\n",
    "# Print the invitations again\n",
    "name = guest_list[0].title()\n",
    "print(f\"\\n{name}, please come to dinner.\")\n",
    "\n",
    "name = guest_list[1].title()\n",
    "print(f\"{name}, please come to dinner.\")\n",
    "\n",
    "name = guest_list[2].title()\n",
    "print(f\"{name}, please come to dinner.\")\n",
    "\n",
    "name = guest_list[3].title()\n",
    "print(f\"{name}, please come to dinner.\")\n",
    "\n",
    "name = guest_list[4].title()\n",
    "print(f\"{name}, please come to dinner.\")\n",
    "\n",
    "\n",
    "# We got a bigger table, so let's add some more people to the list\n",
    "print(\"\\nWe got a bigger table!\")\n",
    "guest_list.insert(0,'paula')\n",
    "guest_list.insert(2,'jason')\n",
    "guest_list.append('rachel')\n",
    "\n",
    "name = guest_list[0].title()\n",
    "print(f\"{name}, please come to dinner.\")\n",
    "\n",
    "name = guest_list[1].title()\n",
    "print(f\"{name}, please come to dinner.\")\n",
    "\n",
    "name = guest_list[2].title()\n",
    "print(f\"{name}, please come to dinner.\")\n",
    "\n",
    "name = guest_list[3].title()\n",
    "print(f\"{name}, please come to dinner.\")\n",
    "\n",
    "name = guest_list[4].title()\n",
    "print(f\"{name}, please come to dinner.\")\n",
    "\n",
    "name = guest_list[5].title()\n",
    "print(f\"{name}, please come to dinner.\")\n",
    "\n",
    "name = guest_list[6].title()\n",
    "print(f\"{name}, please come to dinner.\")\n",
    "\n",
    "name = guest_list[7].title()\n",
    "print(f\"{name}, please come to dinner.\")"
   ]
  },
  {
   "cell_type": "code",
   "execution_count": 23,
   "id": "0599331c",
   "metadata": {},
   "outputs": [
    {
     "name": "stdout",
     "output_type": "stream",
     "text": [
      "Wendy, please come to dinner.\n",
      "Lisa, please come to dinner.\n",
      "Tom, please come to dinner.\n",
      "Danny, please come to dinner.\n",
      "Alex, please come to dinner.\n",
      "\n",
      "Sorry, Tom can't make dinner.\n",
      "\n",
      "Wendy, please come to dinner.\n",
      "Lisa, please come to dinner.\n",
      "Julie, please come to dinner.\n",
      "Danny, please come to dinner.\n",
      "Alex, please come to dinner.\n",
      "\n",
      "We got a bigger table!\n",
      "Paula, please come to dinner.\n",
      "Wendy, please come to dinner.\n",
      "Jason, please come to dinner.\n",
      "Lisa, please come to dinner.\n",
      "Julie, please come to dinner.\n",
      "Danny, please come to dinner.\n",
      "Alex, please come to dinner.\n",
      "Rachel, please come to dinner.\n",
      "\n",
      "Sorry, we can only invite two people to dinner.\n",
      "Sorry, Rachel. We don't have enough room at our table.\n",
      "Sorry, Alex. We don't have enough room at our table.\n",
      "Sorry, Danny. We don't have enough room at our table.\n",
      "Sorry, Julie. We don't have enough room at our table.\n",
      "Sorry, Lisa. We don't have enough room at our table.\n",
      "Sorry, Jason. We don't have enough room at our table.\n",
      "\n",
      "Paula, I'll see you at dinner!\n",
      "Wendy, I'll see you at dinner!\n",
      "[]\n"
     ]
    }
   ],
   "source": [
    "# 3-7 Shrinking guest list\n",
    "\n",
    "# Inviting people to come to dinner\n",
    "guest_list = ['wendy', 'lisa', 'tom', 'danny', 'alex']\n",
    "\n",
    "name = guest_list[0].title()\n",
    "print(f\"{name}, please come to dinner.\")\n",
    "\n",
    "name = guest_list[1].title()\n",
    "print(f\"{name}, please come to dinner.\")\n",
    "\n",
    "name = guest_list[2].title()\n",
    "print(f\"{name}, please come to dinner.\")\n",
    "\n",
    "name = guest_list[3].title()\n",
    "print(f\"{name}, please come to dinner.\")\n",
    "\n",
    "name = guest_list[4].title()\n",
    "print(f\"{name}, please come to dinner.\")\n",
    "\n",
    "name = guest_list[2].title()\n",
    "print(f\"\\nSorry, {name} can't make dinner.\")\n",
    "\n",
    "\n",
    "# Tom can't make dinner. Invite Julie instead\n",
    "del(guest_list[2])\n",
    "guest_list.insert(2,'julie')\n",
    "\n",
    "\n",
    "# Print the invitations again\n",
    "name = guest_list[0].title()\n",
    "print(f\"\\n{name}, please come to dinner.\")\n",
    "\n",
    "name = guest_list[1].title()\n",
    "print(f\"{name}, please come to dinner.\")\n",
    "\n",
    "name = guest_list[2].title()\n",
    "print(f\"{name}, please come to dinner.\")\n",
    "\n",
    "name = guest_list[3].title()\n",
    "print(f\"{name}, please come to dinner.\")\n",
    "\n",
    "name = guest_list[4].title()\n",
    "print(f\"{name}, please come to dinner.\")\n",
    "\n",
    "\n",
    "# We got a bigger table, so let's add some more people to the list\n",
    "print(\"\\nWe got a bigger table!\")\n",
    "guest_list.insert(0,'paula')\n",
    "guest_list.insert(2,'jason')\n",
    "guest_list.append('rachel')\n",
    "\n",
    "name = guest_list[0].title()\n",
    "print(f\"{name}, please come to dinner.\")\n",
    "\n",
    "name = guest_list[1].title()\n",
    "print(f\"{name}, please come to dinner.\")\n",
    "\n",
    "name = guest_list[2].title()\n",
    "print(f\"{name}, please come to dinner.\")\n",
    "\n",
    "name = guest_list[3].title()\n",
    "print(f\"{name}, please come to dinner.\")\n",
    "\n",
    "name = guest_list[4].title()\n",
    "print(f\"{name}, please come to dinner.\")\n",
    "\n",
    "name = guest_list[5].title()\n",
    "print(f\"{name}, please come to dinner.\")\n",
    "\n",
    "name = guest_list[6].title()\n",
    "print(f\"{name}, please come to dinner.\")\n",
    "\n",
    "name = guest_list[7].title()\n",
    "print(f\"{name}, please come to dinner.\")\n",
    "\n",
    "\n",
    "# The table will not arrive on time!\n",
    "print(f\"\\nSorry, we can only invite two people to dinner.\")\n",
    "\n",
    "name = guest_list.pop()\n",
    "print(f\"Sorry, {name.title()}. We don't have enough room at our table.\")\n",
    "\n",
    "name = guest_list.pop()\n",
    "print(f\"Sorry, {name.title()}. We don't have enough room at our table.\")\n",
    "\n",
    "name = guest_list.pop()\n",
    "print(f\"Sorry, {name.title()}. We don't have enough room at our table.\")\n",
    "\n",
    "name = guest_list.pop()\n",
    "print(f\"Sorry, {name.title()}. We don't have enough room at our table.\")\n",
    "\n",
    "name = guest_list.pop()\n",
    "print(f\"Sorry, {name.title()}. We don't have enough room at our table.\")\n",
    "\n",
    "name = guest_list.pop()\n",
    "print(f\"Sorry, {name.title()}. We don't have enough room at our table.\")\n",
    "\n",
    "name = guest_list[0]\n",
    "print(f\"\\n{name.title()}, I'll see you at dinner!\")\n",
    "\n",
    "name = guest_list[1]\n",
    "print(f\"{name.title()}, I'll see you at dinner!\")\n",
    "\n",
    "# Deleing all guests\n",
    "del(guest_list[0])\n",
    "del(guest_list[0])\n",
    "\n",
    "print(guest_list)\n"
   ]
  },
  {
   "cell_type": "markdown",
   "id": "0385f0bc",
   "metadata": {},
   "source": [
    "# Organizing a List Code Along"
   ]
  },
  {
   "cell_type": "code",
   "execution_count": 24,
   "id": "bc1f930a",
   "metadata": {},
   "outputs": [
    {
     "name": "stdout",
     "output_type": "stream",
     "text": [
      "['audi', 'bmw', 'subaru', 'toyota']\n"
     ]
    }
   ],
   "source": [
    "# .sort() sorts list peremanently\n",
    "\n",
    "cars = ['bmw','audi','toyota','subaru']\n",
    "cars.sort()\n",
    "print(cars)"
   ]
  },
  {
   "cell_type": "code",
   "execution_count": 26,
   "id": "b1f6364d",
   "metadata": {},
   "outputs": [
    {
     "name": "stdout",
     "output_type": "stream",
     "text": [
      "['toyota', 'subaru', 'bmw', 'audi']\n"
     ]
    }
   ],
   "source": [
    "cars.sort(reverse=True)\n",
    "print(cars)"
   ]
  },
  {
   "cell_type": "code",
   "execution_count": 28,
   "id": "3e01c5d6",
   "metadata": {},
   "outputs": [
    {
     "name": "stdout",
     "output_type": "stream",
     "text": [
      "Here is the original list:\n",
      "['bmw', 'audi', 'toyota', 'subaru']\n",
      "\n",
      "Here is the sorted list:\n",
      "['audi', 'bmw', 'subaru', 'toyota']\n",
      "\n",
      "Here is the original list again:\n",
      "['bmw', 'audi', 'toyota', 'subaru']\n"
     ]
    }
   ],
   "source": [
    "# use sorted() to temporarily sort a list\n",
    "\n",
    "cars = ['bmw','audi','toyota','subaru']\n",
    "print(\"Here is the original list:\")\n",
    "print(cars)\n",
    "\n",
    "print(\"\\nHere is the sorted list:\")\n",
    "print(sorted(cars))\n",
    "\n",
    "print(\"\\nHere is the original list again:\")\n",
    "print(cars)"
   ]
  },
  {
   "cell_type": "code",
   "execution_count": 39,
   "id": "0ff58557",
   "metadata": {},
   "outputs": [
    {
     "name": "stdout",
     "output_type": "stream",
     "text": [
      "['japan', 'mexico', 'canada']\n",
      "\n",
      "Here's the sorted list:\n",
      "['canada', 'japan', 'mexico']\n",
      "\n",
      "Here's the original list:\n",
      "['japan', 'mexico', 'canada']\n",
      "\n",
      "Here's the reverse order of original list:\n",
      "['canada', 'mexico', 'japan']\n",
      "\n",
      "Here's the reversing the list back to original order:\n",
      "['japan', 'mexico', 'canada']\n",
      "\n",
      "Here's the reverse sorted list:\n",
      "['mexico', 'japan', 'canada']\n"
     ]
    }
   ],
   "source": [
    "# 3-8 Seeing the world\n",
    "\n",
    "locations = ['japan','mexico','canada']\n",
    "print(locations)\n",
    "\n",
    "print(\"\\nHere's the sorted list:\")\n",
    "print(sorted(locations))\n",
    "\n",
    "print(\"\\nHere's the original list:\")\n",
    "print(locations)\n",
    "\n",
    "locations.reverse()\n",
    "print(\"\\nHere's the reverse order of original list:\")\n",
    "print(locations)\n",
    "\n",
    "locations.reverse()\n",
    "print(\"\\nHere's the reversing the list back to original order:\")\n",
    "print(locations)\n",
    "\n",
    "locations.sort()\n",
    "locations.reverse()\n",
    "print(\"\\nHere's the reverse sorted list:\")\n",
    "print(locations)"
   ]
  },
  {
   "cell_type": "code",
   "execution_count": 40,
   "id": "bc17638d",
   "metadata": {},
   "outputs": [
    {
     "name": "stdout",
     "output_type": "stream",
     "text": [
      "There are 5 people coming to dinner.\n"
     ]
    }
   ],
   "source": [
    "# 3-9 Dinner Guests\n",
    "\n",
    "guest_list = ['wendy', 'lisa', 'tom', 'danny', 'alex']\n",
    "print(f\"There are {len(guest_list)} people coming to dinner.\")"
   ]
  },
  {
   "cell_type": "code",
   "execution_count": null,
   "id": "01074dd1",
   "metadata": {},
   "outputs": [],
   "source": [
    "# 3-10 Every Function\n"
   ]
  },
  {
   "cell_type": "code",
   "execution_count": null,
   "id": "6cfe13b3",
   "metadata": {},
   "outputs": [],
   "source": [
    "# 3-11 Intentiona"
   ]
  }
 ],
 "metadata": {
  "kernelspec": {
   "display_name": "Python 3 (ipykernel)",
   "language": "python",
   "name": "python3"
  },
  "language_info": {
   "codemirror_mode": {
    "name": "ipython",
    "version": 3
   },
   "file_extension": ".py",
   "mimetype": "text/x-python",
   "name": "python",
   "nbconvert_exporter": "python",
   "pygments_lexer": "ipython3",
   "version": "3.9.13"
  }
 },
 "nbformat": 4,
 "nbformat_minor": 5
}
