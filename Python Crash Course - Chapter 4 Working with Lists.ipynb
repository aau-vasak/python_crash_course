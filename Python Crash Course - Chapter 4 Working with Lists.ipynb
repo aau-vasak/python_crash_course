{
 "cells": [
  {
   "cell_type": "markdown",
   "id": "296b73c5",
   "metadata": {},
   "source": [
    "# Looping through an entire list"
   ]
  },
  {
   "cell_type": "code",
   "execution_count": 2,
   "id": "861ef261",
   "metadata": {},
   "outputs": [
    {
     "name": "stdout",
     "output_type": "stream",
     "text": [
      "Alice\n",
      "David\n",
      "Carolina\n"
     ]
    }
   ],
   "source": [
    "magicians = ['alice','david','carolina']\n",
    "\n",
    "for magician in magicians:\n",
    "    print(magician.title())"
   ]
  },
  {
   "cell_type": "code",
   "execution_count": 6,
   "id": "e472a602",
   "metadata": {},
   "outputs": [
    {
     "name": "stdout",
     "output_type": "stream",
     "text": [
      "Alice, that was a great trick!\n",
      "I can't wait to see your next trick Alice.\n",
      "\n",
      "David, that was a great trick!\n",
      "I can't wait to see your next trick David.\n",
      "\n",
      "Carolina, that was a great trick!\n",
      "I can't wait to see your next trick Carolina.\n",
      "\n",
      "Thank you everyone, that was a great magic show!\n"
     ]
    }
   ],
   "source": [
    "for magician in magicians:\n",
    "    print(f\"{magician.title()}, that was a great trick!\")\n",
    "    print(f\"I can't wait to see your next trick {magician.title()}.\\n\")\n",
    "print(\"Thank you everyone, that was a great magic show!\")"
   ]
  },
  {
   "cell_type": "code",
   "execution_count": 11,
   "id": "d64c8f0e",
   "metadata": {},
   "outputs": [
    {
     "name": "stdout",
     "output_type": "stream",
     "text": [
      "I like pepperoni pizza!\n",
      "I like cheese pizza!\n",
      "I like margarita pizza!\n",
      "\n",
      "I really love pizza!\n"
     ]
    }
   ],
   "source": [
    "# 4-1 Pizzas\n",
    "\n",
    "pizzas = ['pepperoni','cheese','margarita']\n",
    "\n",
    "for pizza in pizzas:\n",
    "    print(f\"I like {pizza} pizza!\")\n",
    "print(\"\\nI really love pizza!\")"
   ]
  },
  {
   "cell_type": "code",
   "execution_count": 16,
   "id": "931e84d6",
   "metadata": {},
   "outputs": [
    {
     "name": "stdout",
     "output_type": "stream",
     "text": [
      "\n",
      "A lion would not make great pets.\n",
      "\n",
      "A tiger would not make great pets.\n",
      "\n",
      "A cheetah would not make great pets.\n",
      "\n",
      "These are all BIG cats!\n"
     ]
    }
   ],
   "source": [
    "# 4-2 Animals \n",
    "\n",
    "animals = ['lion','tiger','cheetah']\n",
    "\n",
    "for animal in animals:\n",
    "    print(f\"\\nA {animal} would not make great pets.\")\n",
    "print(f\"\\nThese are all BIG cats!\")"
   ]
  },
  {
   "cell_type": "markdown",
   "id": "eb5e1015",
   "metadata": {},
   "source": [
    "# Using the range() Function"
   ]
  },
  {
   "cell_type": "code",
   "execution_count": 18,
   "id": "9a7b5dfd",
   "metadata": {},
   "outputs": [
    {
     "name": "stdout",
     "output_type": "stream",
     "text": [
      "1\n",
      "2\n",
      "3\n",
      "4\n"
     ]
    }
   ],
   "source": [
    "# Code below will capture all the numbers between 1-5 excluding 5\n",
    "# Think begins at 1 ends before 5\n",
    "\n",
    "for value in range(1,5):\n",
    "    print(value)"
   ]
  },
  {
   "cell_type": "code",
   "execution_count": 20,
   "id": "fecb6aea",
   "metadata": {},
   "outputs": [
    {
     "name": "stdout",
     "output_type": "stream",
     "text": [
      "[1, 2, 3, 4, 5]\n"
     ]
    }
   ],
   "source": [
    "# Using range() to make a list of numbers\n",
    "\n",
    "numbers = list(range(1,6))\n",
    "print(numbers)"
   ]
  },
  {
   "cell_type": "code",
   "execution_count": 22,
   "id": "c2d555d9",
   "metadata": {},
   "outputs": [
    {
     "name": "stdout",
     "output_type": "stream",
     "text": [
      "[2, 4, 6, 8, 10]\n"
     ]
    }
   ],
   "source": [
    "# Use range() to skip numbers\n",
    "# range(start number, end before, step size)\n",
    "\n",
    "even_numbers = list(range(2,11,2))\n",
    "print(even_numbers)"
   ]
  },
  {
   "cell_type": "code",
   "execution_count": 24,
   "id": "438e2d2d",
   "metadata": {},
   "outputs": [
    {
     "name": "stdout",
     "output_type": "stream",
     "text": [
      "[1, 4, 9, 16, 25, 36, 49, 64, 81, 100]\n"
     ]
    }
   ],
   "source": [
    "# empty list\n",
    "\n",
    "squares = []\n",
    "\n",
    "\n",
    "\n",
    "# for value in range starting at 1 ending before 11\n",
    "# find the square by raising each value by 2\n",
    "# append the square to squares list\n",
    "\n",
    "for value in range(1,11):\n",
    "    square = value**2\n",
    "    squares.append(square)\n",
    "print(squares)\n"
   ]
  },
  {
   "cell_type": "code",
   "execution_count": 25,
   "id": "e20b03ec",
   "metadata": {},
   "outputs": [
    {
     "name": "stdout",
     "output_type": "stream",
     "text": [
      "[1, 4, 9, 16, 25, 36, 49, 64, 81, 100]\n"
     ]
    }
   ],
   "source": [
    "# List comprehensions\n",
    "\n",
    "squares = [value**2 for value in range(1,11)]\n",
    "print(squares)"
   ]
  },
  {
   "cell_type": "markdown",
   "id": "5ee7404f",
   "metadata": {},
   "source": [
    "# Try It Yourself"
   ]
  },
  {
   "cell_type": "code",
   "execution_count": 27,
   "id": "b4817a9a",
   "metadata": {},
   "outputs": [
    {
     "name": "stdout",
     "output_type": "stream",
     "text": [
      "1\n",
      "2\n",
      "3\n",
      "4\n",
      "5\n",
      "6\n",
      "7\n",
      "8\n",
      "9\n",
      "10\n",
      "11\n",
      "12\n",
      "13\n",
      "14\n",
      "15\n",
      "16\n",
      "17\n",
      "18\n",
      "19\n",
      "20\n"
     ]
    }
   ],
   "source": [
    "# 4-3 Conting to 20 (inclusive)\n",
    "\n",
    "for number in range(1,21):\n",
    "    print(number)"
   ]
  },
  {
   "cell_type": "code",
   "execution_count": 31,
   "id": "dcba5303",
   "metadata": {},
   "outputs": [
    {
     "name": "stdout",
     "output_type": "stream",
     "text": [
      "1\n",
      "2\n",
      "3\n",
      "4\n",
      "5\n",
      "6\n",
      "7\n",
      "8\n",
      "9\n",
      "10\n"
     ]
    }
   ],
   "source": [
    "# 4-4 One Million\n",
    "\n",
    "numbers = list(range(1,11))\n",
    "\n",
    "for number in numbers:\n",
    "    print(number)"
   ]
  },
  {
   "cell_type": "code",
   "execution_count": 34,
   "id": "017eafba",
   "metadata": {},
   "outputs": [
    {
     "name": "stdout",
     "output_type": "stream",
     "text": [
      "1\n",
      "1000000\n",
      "500000500000\n"
     ]
    }
   ],
   "source": [
    "# 4-5 Summing a million\n",
    "\n",
    "numbers = list(range(1,1000001))\n",
    "\n",
    "print(min(numbers))\n",
    "print(max(numbers))\n",
    "print(sum(numbers))"
   ]
  },
  {
   "cell_type": "code",
   "execution_count": 36,
   "id": "a645f9e7",
   "metadata": {},
   "outputs": [
    {
     "name": "stdout",
     "output_type": "stream",
     "text": [
      "1\n",
      "3\n",
      "5\n",
      "7\n",
      "9\n",
      "11\n",
      "13\n",
      "15\n",
      "17\n",
      "19\n"
     ]
    }
   ],
   "source": [
    "# 4-6 Odd Numbers\n",
    "\n",
    "odd_numbers = list(range(1,20,2))\n",
    "\n",
    "for num in odd_numbers:\n",
    "    print(num)"
   ]
  },
  {
   "cell_type": "code",
   "execution_count": 41,
   "id": "1347d6a2",
   "metadata": {},
   "outputs": [
    {
     "name": "stdout",
     "output_type": "stream",
     "text": [
      "3\n",
      "6\n",
      "9\n",
      "12\n",
      "15\n",
      "18\n",
      "21\n",
      "24\n",
      "27\n",
      "30\n"
     ]
    }
   ],
   "source": [
    "# 4-7 Threes\n",
    "\n",
    "multiples = list(range(3,31,3))\n",
    "\n",
    "for num in multiples:\n",
    "    print(num)"
   ]
  },
  {
   "cell_type": "code",
   "execution_count": 43,
   "id": "4512f8a5",
   "metadata": {},
   "outputs": [
    {
     "name": "stdout",
     "output_type": "stream",
     "text": [
      "[1, 8, 27, 64, 125, 216, 343, 512, 729, 1000]\n"
     ]
    }
   ],
   "source": [
    "# 4-8 Cubes \n",
    "\n",
    "cubes = []\n",
    "numbers = list(range(1,11))\n",
    "\n",
    "for num in numbers:\n",
    "    cube = num**3\n",
    "    cubes.append(cube)\n",
    "print(cubes)"
   ]
  },
  {
   "cell_type": "code",
   "execution_count": 44,
   "id": "f39ae5e3",
   "metadata": {},
   "outputs": [
    {
     "name": "stdout",
     "output_type": "stream",
     "text": [
      "[1, 8, 27, 64, 125, 216, 343, 512, 729, 1000]\n"
     ]
    }
   ],
   "source": [
    "# 4-9 Cube Comprehensions\n",
    "\n",
    "cubes = [value**3 for value in range(1,11)]\n",
    "print(cubes)"
   ]
  },
  {
   "cell_type": "markdown",
   "id": "6cbf0ff1",
   "metadata": {},
   "source": [
    "## Working with Part of a List"
   ]
  },
  {
   "cell_type": "code",
   "execution_count": 46,
   "id": "0148aeb3",
   "metadata": {},
   "outputs": [
    {
     "name": "stdout",
     "output_type": "stream",
     "text": [
      "Here are the first three players on my team:\n",
      "Charles\n",
      "Martina\n",
      "Michael\n"
     ]
    }
   ],
   "source": [
    "# Looping through a slice\n",
    "\n",
    "players = ['charles', 'martina', 'michael', 'florence', 'eli']\n",
    "\n",
    "print(\"Here are the first three players on my team:\")\n",
    "for player in players[:3]:\n",
    "    print(player.title())"
   ]
  },
  {
   "cell_type": "code",
   "execution_count": 50,
   "id": "18ed76ba",
   "metadata": {},
   "outputs": [
    {
     "name": "stdout",
     "output_type": "stream",
     "text": [
      "My favorite foods are:\n",
      "['pizza', 'falafel', 'carrot cake', 'cannoli']\n",
      "\n",
      "My friend's favorite foods are:\n",
      "['pizza', 'falafel', 'carrot cake', 'ice cream']\n"
     ]
    }
   ],
   "source": [
    "# Copying a list\n",
    "\n",
    "\n",
    "# Copying the my_foods list since the friend likes everything you like so far\n",
    "my_foods = ['pizza','falafel','carrot cake']\n",
    "friends_foods = my_foods[:]\n",
    "\n",
    "# Appending both lists to show they are two different lisgts\n",
    "my_foods.append('cannoli')\n",
    "friends_foods.append('ice cream')\n",
    "\n",
    "print(\"My favorite foods are:\")\n",
    "print(my_foods)\n",
    "\n",
    "print(\"\\nMy friend's favorite foods are:\")\n",
    "print(friends_foods)"
   ]
  },
  {
   "cell_type": "code",
   "execution_count": 62,
   "id": "7746de2d",
   "metadata": {},
   "outputs": [
    {
     "name": "stdout",
     "output_type": "stream",
     "text": [
      "The first three items in the list are:\n",
      "pizza\n",
      "falafel\n",
      "carrot cake\n",
      "\n",
      "The items in the middle of the list are:\n",
      "falafel\n",
      "carrot cake\n",
      "\n",
      "The last three items in the list are:\n",
      "falafel\n",
      "carrot cake\n",
      "cannoli\n"
     ]
    }
   ],
   "source": [
    "# 4-10 Slices\n",
    "\n",
    "my_foods = ['pizza','falafel','carrot cake','cannoli']\n",
    "\n",
    "print(\"The first three items in the list are:\")\n",
    "for item in my_foods[0:3]:\n",
    "    print(item)\n",
    "\n",
    "print(\"\\nThe items in the middle of the list are:\")\n",
    "for item in my_foods[1:3]:\n",
    "    print(item)\n",
    "\n",
    "print(\"\\nThe last three items in the list are:\")\n",
    "for item in my_foods[-3:]:\n",
    "    print(item)"
   ]
  },
  {
   "cell_type": "code",
   "execution_count": 75,
   "id": "8cf0811d",
   "metadata": {},
   "outputs": [
    {
     "name": "stdout",
     "output_type": "stream",
     "text": [
      "My favorite pizzas are:\n",
      "Pepperoni\n",
      "Cheese\n",
      "Margarita\n",
      "Veggie\n",
      "\n",
      "My friend's favorite pizzas are:\n",
      "Pepperoni\n",
      "Cheese\n",
      "Margarita\n",
      "Meat Lovers\n"
     ]
    }
   ],
   "source": [
    "# 4-11 My pizzas, your pizzas\n",
    "\n",
    "pizzas = ['pepperoni','cheese','margarita']\n",
    "friend_pizzas = pizzas[:]\n",
    "\n",
    "pizzas.append('veggie')\n",
    "friend_pizzas.append('meat lovers')\n",
    "\n",
    "print(\"My favorite pizzas are:\")\n",
    "for pizza in pizzas:\n",
    "    print(pizza.title())\n",
    "    \n",
    "\n",
    "print(\"\\nMy friend's favorite pizzas are:\")\n",
    "for pizza in friend_pizzas:\n",
    "    print(pizza.title())\n",
    "    "
   ]
  },
  {
   "cell_type": "code",
   "execution_count": 76,
   "id": "ce5dd1d1",
   "metadata": {},
   "outputs": [
    {
     "name": "stdout",
     "output_type": "stream",
     "text": [
      "My favorite foods are:\n",
      "Pizza\n",
      "Falafel\n",
      "Carrot Cake\n",
      "Cannoli\n",
      "\n",
      "My friend's favorite foods are:\n",
      "Pizza\n",
      "Falafel\n",
      "Carrot Cake\n",
      "Ice Cream\n"
     ]
    }
   ],
   "source": [
    "# 4-12\n",
    "\n",
    "print(\"My favorite foods are:\")\n",
    "for food in my_foods :\n",
    "    print(food.title())\n",
    "    \n",
    "\n",
    "print(\"\\nMy friend's favorite foods are:\")\n",
    "for pizza in friends_foods:\n",
    "    print(pizza.title())"
   ]
  },
  {
   "cell_type": "markdown",
   "id": "7d7b5a27",
   "metadata": {},
   "source": [
    "## Tuples"
   ]
  },
  {
   "cell_type": "code",
   "execution_count": 81,
   "id": "96766142",
   "metadata": {},
   "outputs": [
    {
     "name": "stdout",
     "output_type": "stream",
     "text": [
      "Original dimensions:\n",
      "200\n",
      "50\n",
      "\n",
      "Modfied dimensions:\n",
      "400\n",
      "100\n"
     ]
    }
   ],
   "source": [
    "# Writing over then tuple - can't modify a tuple but you can reassign it\n",
    "\n",
    "dimensions = (200,50)\n",
    "print(\"Original dimensions:\")\n",
    "for dimension in dimensions:\n",
    "    print(dimension)\n",
    "    \n",
    "dimensions = (400,100)\n",
    "print(\"\\nModfied dimensions:\")\n",
    "for dimension in dimensions:\n",
    "    print(dimension)"
   ]
  },
  {
   "cell_type": "code",
   "execution_count": 82,
   "id": "0a7cb8e6",
   "metadata": {},
   "outputs": [
    {
     "name": "stdout",
     "output_type": "stream",
     "text": [
      "Original menu:\n",
      "Sea Bass\n",
      "Roast Chicken\n",
      "Steak\n",
      "Grilled Vegetables\n",
      "Cholocate Cake\n",
      "\n",
      "Modfied menu:\n",
      "Sea Bass\n",
      "Roast Chicken\n",
      "Steak\n",
      "Salad\n",
      "Ice Cream\n"
     ]
    }
   ],
   "source": [
    "# 4-13 Buffet\n",
    "\n",
    "menu = ('sea bass','roast chicken','steak','grilled vegetables','cholocate cake')\n",
    "print(\"Original menu:\")\n",
    "for n in menu:\n",
    "    print(n.title())\n",
    "    \n",
    "menu = ('sea bass','roast chicken','steak','salad','ice cream')\n",
    "print(\"\\nModfied menu:\")\n",
    "for n in menu:\n",
    "    print(n.title())   "
   ]
  },
  {
   "cell_type": "code",
   "execution_count": null,
   "id": "51bfaea9",
   "metadata": {},
   "outputs": [],
   "source": []
  }
 ],
 "metadata": {
  "kernelspec": {
   "display_name": "Python 3 (ipykernel)",
   "language": "python",
   "name": "python3"
  },
  "language_info": {
   "codemirror_mode": {
    "name": "ipython",
    "version": 3
   },
   "file_extension": ".py",
   "mimetype": "text/x-python",
   "name": "python",
   "nbconvert_exporter": "python",
   "pygments_lexer": "ipython3",
   "version": "3.9.13"
  }
 },
 "nbformat": 4,
 "nbformat_minor": 5
}
